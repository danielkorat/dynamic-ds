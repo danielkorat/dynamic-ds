{
 "cells": [
  {
   "cell_type": "markdown",
   "metadata": {
    "colab_type": "text",
    "id": "view-in-github"
   },
   "source": [
    "<a href=\"https://colab.research.google.com/github/danielkorat/dynamic_ds/blob/main/Playground.ipynb\" target=\"_parent\"><img src=\"https://colab.research.google.com/assets/colab-badge.svg\" alt=\"Open In Colab\"/></a>"
   ]
  },
  {
   "cell_type": "code",
   "execution_count": 6,
   "metadata": {
    "id": "XnB6duFc-kaT"
   },
   "outputs": [],
   "source": [
    "import pandas as pd\n",
    "import matplotlib.pyplot as plt\n",
    "from datasets import load_dataset\n",
    "from tqdm import tqdm\n",
    "from collections import defaultdict\n",
    "from numpy import log\n"
   ]
  },
  {
   "cell_type": "code",
   "execution_count": 14,
   "metadata": {},
   "outputs": [
    {
     "name": "stderr",
     "output_type": "stream",
     "text": [
      "Reusing dataset conll2003 (/home/iddo/.cache/huggingface/datasets/conll2003/conll2003/1.0.0/40e7cb6bcc374f7c349c83acd1e9352a4f09474eb691f64f364ee62eb65d0ca6)\n",
      "100%|██████████| 14041/14041 [00:00<00:00, 16717.67it/s]\n",
      "100%|██████████| 3453/3453 [00:00<00:00, 16986.64it/s]\n",
      "100%|██████████| 3250/3250 [00:00<00:00, 15839.92it/s]\n",
      "/home/iddo/PycharmProjects/learning-ds/venv/lib/python3.7/site-packages/ipykernel_launcher.py:13: RuntimeWarning: divide by zero encountered in log\n",
      "  del sys.path[0]\n"
     ]
    },
    {
     "data": {
      "image/png": "[encoded data removed]",
      "text/plain": [
       "<Figure size 432x288 with 1 Axes>"
      ]
     },
     "metadata": {
      "needs_background": "light"
     },
     "output_type": "display_data"
    }
   ],
   "source": [
    "DS_NAME = \"conll2003\"\n",
    "\n",
    "counts = defaultdict(int)\n",
    "ds = load_dataset(DS_NAME)\n",
    "for split in 'train', 'test', 'validation':\n",
    "    for example in tqdm(ds[split]):\n",
    "        for token in example['tokens']:\n",
    "            counts[token.lower()] += 1\n",
    "\n",
    "log_counts = defaultdict(int)\n",
    "for w, count in counts.items():\n",
    "    log_counts[w] = log(count)\n",
    "sorted_counts = sorted(log_counts.values(), reverse=True)\n",
    "df = pd.DataFrame(data=sorted_counts)\n",
    "df.index = log(df.index)\n",
    "\n",
    "df.plot()\n",
    "plt.xlabel(\"sorted items in log scale\")\n",
    "plt.ylabel(\"frequency in log scale\")\n",
    "plt.legend([DS_NAME])\n",
    "plt.show()"
   ]
  }
 ],
 "metadata": {
  "colab": {
   "authorship_tag": "ABX9TyO5dSLY7k3VLQQUKe1fagoN",
   "include_colab_link": true,
   "name": "Playground.ipynb",
   "provenance": []
  },
  "kernelspec": {
   "display_name": "Python 3",
   "language": "python",
   "name": "python3"
  },
  "language_info": {
   "codemirror_mode": {
    "name": "ipython",
    "version": 3
   },
   "file_extension": ".py",
   "mimetype": "text/x-python",
   "name": "python",
   "nbconvert_exporter": "python",
   "pygments_lexer": "ipython3",
   "version": "3.7.10"
  }
 },
 "nbformat": 4,
 "nbformat_minor": 1
}